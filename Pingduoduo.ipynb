{
 "cells": [
  {
   "cell_type": "markdown",
   "metadata": {},
   "source": [
    "# 1.业务背景"
   ]
  },
  {
   "cell_type": "markdown",
   "metadata": {},
   "source": [
    "拼多多是国内主流的手机购物APP，成立于2015年9月，用户通过发起和朋友、家人、邻居等的拼团，以更低的价格，拼团购买商品。\n",
    "拼多多作为新电商开创者,致力于将娱乐社交的元素融入电商运营中,通过“社交+电商”的模式,让更多的用户带着乐趣分享实惠,享受全新的共享式购物体验。\n",
    "对于各大电商平台，在“双十一”这种大促时间段，优惠券会起到非常大的促销作用。"
   ]
  },
  {
   "cell_type": "markdown",
   "metadata": {},
   "source": [
    "1.使用Python建立逻辑回归模型\n",
    "\n",
    "2.预测用户是否会在活动中使用优惠券\n",
    "\n",
    "3.找到对用户使用优惠券影响较大的因素"
   ]
  },
  {
   "cell_type": "markdown",
   "metadata": {},
   "source": [
    "# 2.导入数据与初步探索"
   ]
  },
  {
   "cell_type": "code",
   "execution_count": 1,
   "metadata": {},
   "outputs": [],
   "source": [
    "import pandas as pd\n",
    "import numpy as np\n",
    "import seaborn as sns\n",
    "import matplotlib.pyplot as plt\n",
    "%matplotlib inline"
   ]
  },
  {
   "cell_type": "code",
   "execution_count": 2,
   "metadata": {},
   "outputs": [],
   "source": [
    "pdd=pd.read_csv(r'E:\\小灶数据分析课程\\拼多多优惠券数据.csv')"
   ]
  },
  {
   "cell_type": "code",
   "execution_count": 3,
   "metadata": {},
   "outputs": [],
   "source": [
    "#导入中文字体---黑体\n",
    "plt.rcParams['font.sans-serif']=['simhei']"
   ]
  },
  {
   "cell_type": "code",
   "execution_count": 4,
   "metadata": {},
   "outputs": [
    {
     "name": "stdout",
     "output_type": "stream",
     "text": [
      "<class 'pandas.core.frame.DataFrame'>\n",
      "RangeIndex: 25317 entries, 0 to 25316\n",
      "Data columns (total 10 columns):\n",
      " #   Column                      Non-Null Count  Dtype \n",
      "---  ------                      --------------  ----- \n",
      " 0   ID                          25317 non-null  int64 \n",
      " 1   age                         25317 non-null  int64 \n",
      " 2   job                         25317 non-null  object\n",
      " 3   marital                     25317 non-null  object\n",
      " 4   default                     25317 non-null  object\n",
      " 5   returned                    25317 non-null  object\n",
      " 6   loan                        25317 non-null  object\n",
      " 7   coupon_used_in_last6_month  25317 non-null  int64 \n",
      " 8   coupon_used_in_last_month   25317 non-null  int64 \n",
      " 9   coupon_ind                  25317 non-null  int64 \n",
      "dtypes: int64(5), object(5)\n",
      "memory usage: 1.9+ MB\n"
     ]
    }
   ],
   "source": [
    "pdd.info()\n",
    "#数据共有25317个，初步探索未发现空值，且数据类型没有问题。"
   ]
  },
  {
   "cell_type": "code",
   "execution_count": 5,
   "metadata": {},
   "outputs": [
    {
     "data": {
      "text/html": [
       "<div>\n",
       "<style scoped>\n",
       "    .dataframe tbody tr th:only-of-type {\n",
       "        vertical-align: middle;\n",
       "    }\n",
       "\n",
       "    .dataframe tbody tr th {\n",
       "        vertical-align: top;\n",
       "    }\n",
       "\n",
       "    .dataframe thead th {\n",
       "        text-align: right;\n",
       "    }\n",
       "</style>\n",
       "<table border=\"1\" class=\"dataframe\">\n",
       "  <thead>\n",
       "    <tr style=\"text-align: right;\">\n",
       "      <th></th>\n",
       "      <th>ID</th>\n",
       "      <th>age</th>\n",
       "      <th>job</th>\n",
       "      <th>marital</th>\n",
       "      <th>default</th>\n",
       "      <th>returned</th>\n",
       "      <th>loan</th>\n",
       "      <th>coupon_used_in_last6_month</th>\n",
       "      <th>coupon_used_in_last_month</th>\n",
       "      <th>coupon_ind</th>\n",
       "    </tr>\n",
       "  </thead>\n",
       "  <tbody>\n",
       "    <tr>\n",
       "      <th>0</th>\n",
       "      <td>1</td>\n",
       "      <td>43</td>\n",
       "      <td>management</td>\n",
       "      <td>married</td>\n",
       "      <td>no</td>\n",
       "      <td>yes</td>\n",
       "      <td>no</td>\n",
       "      <td>2</td>\n",
       "      <td>0</td>\n",
       "      <td>0</td>\n",
       "    </tr>\n",
       "    <tr>\n",
       "      <th>1</th>\n",
       "      <td>2</td>\n",
       "      <td>42</td>\n",
       "      <td>technician</td>\n",
       "      <td>divorced</td>\n",
       "      <td>no</td>\n",
       "      <td>yes</td>\n",
       "      <td>no</td>\n",
       "      <td>1</td>\n",
       "      <td>1</td>\n",
       "      <td>0</td>\n",
       "    </tr>\n",
       "    <tr>\n",
       "      <th>2</th>\n",
       "      <td>3</td>\n",
       "      <td>47</td>\n",
       "      <td>admin.</td>\n",
       "      <td>married</td>\n",
       "      <td>no</td>\n",
       "      <td>yes</td>\n",
       "      <td>yes</td>\n",
       "      <td>2</td>\n",
       "      <td>0</td>\n",
       "      <td>0</td>\n",
       "    </tr>\n",
       "    <tr>\n",
       "      <th>3</th>\n",
       "      <td>4</td>\n",
       "      <td>28</td>\n",
       "      <td>management</td>\n",
       "      <td>single</td>\n",
       "      <td>no</td>\n",
       "      <td>yes</td>\n",
       "      <td>yes</td>\n",
       "      <td>2</td>\n",
       "      <td>0</td>\n",
       "      <td>0</td>\n",
       "    </tr>\n",
       "    <tr>\n",
       "      <th>4</th>\n",
       "      <td>5</td>\n",
       "      <td>42</td>\n",
       "      <td>technician</td>\n",
       "      <td>divorced</td>\n",
       "      <td>no</td>\n",
       "      <td>yes</td>\n",
       "      <td>no</td>\n",
       "      <td>5</td>\n",
       "      <td>0</td>\n",
       "      <td>0</td>\n",
       "    </tr>\n",
       "  </tbody>\n",
       "</table>\n",
       "</div>"
      ],
      "text/plain": [
       "   ID  age         job   marital default returned loan  \\\n",
       "0   1   43  management   married      no      yes   no   \n",
       "1   2   42  technician  divorced      no      yes   no   \n",
       "2   3   47      admin.   married      no      yes  yes   \n",
       "3   4   28  management    single      no      yes  yes   \n",
       "4   5   42  technician  divorced      no      yes   no   \n",
       "\n",
       "   coupon_used_in_last6_month  coupon_used_in_last_month  coupon_ind  \n",
       "0                           2                          0           0  \n",
       "1                           1                          1           0  \n",
       "2                           2                          0           0  \n",
       "3                           2                          0           0  \n",
       "4                           5                          0           0  "
      ]
     },
     "execution_count": 5,
     "metadata": {},
     "output_type": "execute_result"
    }
   ],
   "source": [
    "pdd.head()\n",
    "#ID在这里没有作用，从age到coupon_used_in_last_month都是特征变量。\n",
    "#其中，age,coupon_used_in_last6_month，coupon_used_in_last_month都是数值型变量，需要探索是否有异常值，离群值等；\n",
    "#而job,marital,default,returned,loan都是分类型变量，需要查看是否有空值异常值，以及转换为哑变量等；\n",
    "#coupon_ind是目标分类变量"
   ]
  },
  {
   "cell_type": "markdown",
   "metadata": {},
   "source": [
    "2.1数值型变量数据处理"
   ]
  },
  {
   "cell_type": "code",
   "execution_count": 6,
   "metadata": {},
   "outputs": [
    {
     "data": {
      "text/html": [
       "<div>\n",
       "<style scoped>\n",
       "    .dataframe tbody tr th:only-of-type {\n",
       "        vertical-align: middle;\n",
       "    }\n",
       "\n",
       "    .dataframe tbody tr th {\n",
       "        vertical-align: top;\n",
       "    }\n",
       "\n",
       "    .dataframe thead th {\n",
       "        text-align: right;\n",
       "    }\n",
       "</style>\n",
       "<table border=\"1\" class=\"dataframe\">\n",
       "  <thead>\n",
       "    <tr style=\"text-align: right;\">\n",
       "      <th></th>\n",
       "      <th>ID</th>\n",
       "      <th>age</th>\n",
       "      <th>coupon_used_in_last6_month</th>\n",
       "      <th>coupon_used_in_last_month</th>\n",
       "      <th>coupon_ind</th>\n",
       "    </tr>\n",
       "  </thead>\n",
       "  <tbody>\n",
       "    <tr>\n",
       "      <th>count</th>\n",
       "      <td>25317.000000</td>\n",
       "      <td>25317.000000</td>\n",
       "      <td>25317.000000</td>\n",
       "      <td>25317.000000</td>\n",
       "      <td>25317.000000</td>\n",
       "    </tr>\n",
       "    <tr>\n",
       "      <th>mean</th>\n",
       "      <td>12659.000000</td>\n",
       "      <td>40.935379</td>\n",
       "      <td>2.772050</td>\n",
       "      <td>0.292847</td>\n",
       "      <td>0.116957</td>\n",
       "    </tr>\n",
       "    <tr>\n",
       "      <th>std</th>\n",
       "      <td>7308.532719</td>\n",
       "      <td>10.634289</td>\n",
       "      <td>3.136097</td>\n",
       "      <td>0.765498</td>\n",
       "      <td>0.321375</td>\n",
       "    </tr>\n",
       "    <tr>\n",
       "      <th>min</th>\n",
       "      <td>1.000000</td>\n",
       "      <td>18.000000</td>\n",
       "      <td>1.000000</td>\n",
       "      <td>0.000000</td>\n",
       "      <td>0.000000</td>\n",
       "    </tr>\n",
       "    <tr>\n",
       "      <th>25%</th>\n",
       "      <td>6330.000000</td>\n",
       "      <td>33.000000</td>\n",
       "      <td>1.000000</td>\n",
       "      <td>0.000000</td>\n",
       "      <td>0.000000</td>\n",
       "    </tr>\n",
       "    <tr>\n",
       "      <th>50%</th>\n",
       "      <td>12659.000000</td>\n",
       "      <td>39.000000</td>\n",
       "      <td>2.000000</td>\n",
       "      <td>0.000000</td>\n",
       "      <td>0.000000</td>\n",
       "    </tr>\n",
       "    <tr>\n",
       "      <th>75%</th>\n",
       "      <td>18988.000000</td>\n",
       "      <td>48.000000</td>\n",
       "      <td>3.000000</td>\n",
       "      <td>0.000000</td>\n",
       "      <td>0.000000</td>\n",
       "    </tr>\n",
       "    <tr>\n",
       "      <th>max</th>\n",
       "      <td>25317.000000</td>\n",
       "      <td>95.000000</td>\n",
       "      <td>55.000000</td>\n",
       "      <td>15.000000</td>\n",
       "      <td>1.000000</td>\n",
       "    </tr>\n",
       "  </tbody>\n",
       "</table>\n",
       "</div>"
      ],
      "text/plain": [
       "                 ID           age  coupon_used_in_last6_month  \\\n",
       "count  25317.000000  25317.000000                25317.000000   \n",
       "mean   12659.000000     40.935379                    2.772050   \n",
       "std     7308.532719     10.634289                    3.136097   \n",
       "min        1.000000     18.000000                    1.000000   \n",
       "25%     6330.000000     33.000000                    1.000000   \n",
       "50%    12659.000000     39.000000                    2.000000   \n",
       "75%    18988.000000     48.000000                    3.000000   \n",
       "max    25317.000000     95.000000                   55.000000   \n",
       "\n",
       "       coupon_used_in_last_month    coupon_ind  \n",
       "count               25317.000000  25317.000000  \n",
       "mean                    0.292847      0.116957  \n",
       "std                     0.765498      0.321375  \n",
       "min                     0.000000      0.000000  \n",
       "25%                     0.000000      0.000000  \n",
       "50%                     0.000000      0.000000  \n",
       "75%                     0.000000      0.000000  \n",
       "max                    15.000000      1.000000  "
      ]
     },
     "execution_count": 6,
     "metadata": {},
     "output_type": "execute_result"
    }
   ],
   "source": [
    "#数值型变量概览\n",
    "pdd.describe()\n",
    "#1.ID略过，age的最小值18没有问题，但是最大值95岁有点异常，需要进一步探索，age的标准差达到了10，考虑是否需要排除离群值或者进行对数处理或分箱。\n",
    "#2.coupon_used_in_last6_month也是同样最大值55有点离群，虽然现实中也是正常现象，但是会造成数据偏差，可考虑分箱。\n",
    "#3.coupon_used_in_last_month75%都是0，最大值15确实不小，但标准差0.76比较稳健，暂时不动。\n",
    "#4.coupon_ind都是0/1，没有问题。"
   ]
  },
  {
   "cell_type": "markdown",
   "metadata": {},
   "source": [
    "2.1.1 age"
   ]
  },
  {
   "cell_type": "code",
   "execution_count": 7,
   "metadata": {},
   "outputs": [
    {
     "data": {
      "image/png": "[encoded data removed]",
      "text/plain": [
       "<Figure size 432x288 with 1 Axes>"
      ]
     },
     "metadata": {
      "needs_background": "light"
     },
     "output_type": "display_data"
    }
   ],
   "source": [
    "sns.boxplot(y='age',data=pdd);"
   ]
  },
  {
   "cell_type": "code",
   "execution_count": 8,
   "metadata": {},
   "outputs": [
    {
     "data": {
      "text/plain": [
       "70.5"
      ]
     },
     "execution_count": 8,
     "metadata": {},
     "output_type": "execute_result"
    }
   ],
   "source": [
    "#计算age的离群值\n",
    "tmp=pdd['age'].describe()\n",
    "IQR=tmp['75%']-tmp['25%']\n",
    "tmp['75%']+ 1.5 * IQR\n",
    "#超过70.5的为离群值，需要进行筛除"
   ]
  },
  {
   "cell_type": "code",
   "execution_count": 9,
   "metadata": {},
   "outputs": [
    {
     "data": {
      "text/html": [
       "<div>\n",
       "<style scoped>\n",
       "    .dataframe tbody tr th:only-of-type {\n",
       "        vertical-align: middle;\n",
       "    }\n",
       "\n",
       "    .dataframe tbody tr th {\n",
       "        vertical-align: top;\n",
       "    }\n",
       "\n",
       "    .dataframe thead th {\n",
       "        text-align: right;\n",
       "    }\n",
       "</style>\n",
       "<table border=\"1\" class=\"dataframe\">\n",
       "  <thead>\n",
       "    <tr style=\"text-align: right;\">\n",
       "      <th></th>\n",
       "      <th>ID</th>\n",
       "      <th>age</th>\n",
       "      <th>coupon_used_in_last6_month</th>\n",
       "      <th>coupon_used_in_last_month</th>\n",
       "      <th>coupon_ind</th>\n",
       "    </tr>\n",
       "  </thead>\n",
       "  <tbody>\n",
       "    <tr>\n",
       "      <th>count</th>\n",
       "      <td>24993.000000</td>\n",
       "      <td>24993.000000</td>\n",
       "      <td>24993.000000</td>\n",
       "      <td>24993.000000</td>\n",
       "      <td>24993.000000</td>\n",
       "    </tr>\n",
       "    <tr>\n",
       "      <th>mean</th>\n",
       "      <td>12607.551754</td>\n",
       "      <td>40.481735</td>\n",
       "      <td>2.781099</td>\n",
       "      <td>0.289201</td>\n",
       "      <td>0.112752</td>\n",
       "    </tr>\n",
       "    <tr>\n",
       "      <th>std</th>\n",
       "      <td>7285.396095</td>\n",
       "      <td>9.906800</td>\n",
       "      <td>3.148617</td>\n",
       "      <td>0.763264</td>\n",
       "      <td>0.316295</td>\n",
       "    </tr>\n",
       "    <tr>\n",
       "      <th>min</th>\n",
       "      <td>1.000000</td>\n",
       "      <td>18.000000</td>\n",
       "      <td>1.000000</td>\n",
       "      <td>0.000000</td>\n",
       "      <td>0.000000</td>\n",
       "    </tr>\n",
       "    <tr>\n",
       "      <th>25%</th>\n",
       "      <td>6302.000000</td>\n",
       "      <td>32.000000</td>\n",
       "      <td>1.000000</td>\n",
       "      <td>0.000000</td>\n",
       "      <td>0.000000</td>\n",
       "    </tr>\n",
       "    <tr>\n",
       "      <th>50%</th>\n",
       "      <td>12595.000000</td>\n",
       "      <td>39.000000</td>\n",
       "      <td>2.000000</td>\n",
       "      <td>0.000000</td>\n",
       "      <td>0.000000</td>\n",
       "    </tr>\n",
       "    <tr>\n",
       "      <th>75%</th>\n",
       "      <td>18899.000000</td>\n",
       "      <td>48.000000</td>\n",
       "      <td>3.000000</td>\n",
       "      <td>0.000000</td>\n",
       "      <td>0.000000</td>\n",
       "    </tr>\n",
       "    <tr>\n",
       "      <th>max</th>\n",
       "      <td>25317.000000</td>\n",
       "      <td>69.000000</td>\n",
       "      <td>55.000000</td>\n",
       "      <td>15.000000</td>\n",
       "      <td>1.000000</td>\n",
       "    </tr>\n",
       "  </tbody>\n",
       "</table>\n",
       "</div>"
      ],
      "text/plain": [
       "                 ID           age  coupon_used_in_last6_month  \\\n",
       "count  24993.000000  24993.000000                24993.000000   \n",
       "mean   12607.551754     40.481735                    2.781099   \n",
       "std     7285.396095      9.906800                    3.148617   \n",
       "min        1.000000     18.000000                    1.000000   \n",
       "25%     6302.000000     32.000000                    1.000000   \n",
       "50%    12595.000000     39.000000                    2.000000   \n",
       "75%    18899.000000     48.000000                    3.000000   \n",
       "max    25317.000000     69.000000                   55.000000   \n",
       "\n",
       "       coupon_used_in_last_month    coupon_ind  \n",
       "count               24993.000000  24993.000000  \n",
       "mean                    0.289201      0.112752  \n",
       "std                     0.763264      0.316295  \n",
       "min                     0.000000      0.000000  \n",
       "25%                     0.000000      0.000000  \n",
       "50%                     0.000000      0.000000  \n",
       "75%                     0.000000      0.000000  \n",
       "max                    15.000000      1.000000  "
      ]
     },
     "execution_count": 9,
     "metadata": {},
     "output_type": "execute_result"
    }
   ],
   "source": [
    "pdd=pdd[pdd['age']<70]\n",
    "pdd.describe()"
   ]
  },
  {
   "cell_type": "code",
   "execution_count": 10,
   "metadata": {},
   "outputs": [
    {
     "data": {
      "image/png": "[encoded data removed]",
      "text/plain": [
       "<Figure size 432x288 with 1 Axes>"
      ]
     },
     "metadata": {
      "needs_background": "light"
     },
     "output_type": "display_data"
    }
   ],
   "source": [
    "pdd['age'].plot(kind='hist');"
   ]
  },
  {
   "cell_type": "code",
   "execution_count": 11,
   "metadata": {},
   "outputs": [
    {
     "data": {
      "text/plain": [
       "30-40    0.397647\n",
       "40-50    0.252131\n",
       ">50      0.193621\n",
       "<30      0.156601\n",
       "Name: age, dtype: float64"
      ]
     },
     "execution_count": 11,
     "metadata": {},
     "output_type": "execute_result"
    }
   ],
   "source": [
    "bins=[18,30,40,50,70]\n",
    "labels=['<30','30-40','40-50','>50']\n",
    "pdd['age']=pd.cut(pdd.age, bins, right=True,labels=labels)\n",
    "pdd['age'].value_counts(1)\n",
    "#对年龄组进行分箱，之前尝试对数转换发现年龄都不是整数了，决定分箱操作"
   ]
  },
  {
   "cell_type": "markdown",
   "metadata": {},
   "source": [
    "2.1.2 coupon_used_in_last6_month"
   ]
  },
  {
   "cell_type": "code",
   "execution_count": 12,
   "metadata": {},
   "outputs": [
    {
     "data": {
      "image/png": "[encoded data removed]",
      "text/plain": [
       "<Figure size 432x288 with 1 Axes>"
      ]
     },
     "metadata": {
      "needs_background": "light"
     },
     "output_type": "display_data"
    }
   ],
   "source": [
    "#可视化查看这一变量大概的分布\n",
    "pdd['coupon_used_in_last6_month'].plot(kind='hist');"
   ]
  },
  {
   "cell_type": "code",
   "execution_count": 13,
   "metadata": {},
   "outputs": [
    {
     "data": {
      "text/plain": [
       "1      0.386588\n",
       ">=3    0.336334\n",
       "2      0.277078\n",
       "Name: coupon_last6_month, dtype: float64"
      ]
     },
     "execution_count": 13,
     "metadata": {},
     "output_type": "execute_result"
    }
   ],
   "source": [
    "#对coupon_used_in_last6_month分箱操作\n",
    "bins=[0,1,2,55]\n",
    "labels=['1','2','>=3']\n",
    "pdd['coupon_last6_month']=pd.cut(pdd.coupon_used_in_last6_month, bins, right=True,labels=labels)\n",
    "pdd['coupon_last6_month'].value_counts(1)"
   ]
  },
  {
   "cell_type": "markdown",
   "metadata": {},
   "source": [
    "2.2 分类型变量数据处理"
   ]
  },
  {
   "cell_type": "code",
   "execution_count": 14,
   "metadata": {},
   "outputs": [
    {
     "data": {
      "text/plain": [
       "married     15003\n",
       "single       7147\n",
       "divorced     2843\n",
       "Name: marital, dtype: int64"
      ]
     },
     "execution_count": 14,
     "metadata": {},
     "output_type": "execute_result"
    }
   ],
   "source": [
    "pdd['marital'].value_counts()\n",
    "#marital有三类，已婚，单身和离婚状态，没有空值，虽然比例差异有点大，但可以使用"
   ]
  },
  {
   "cell_type": "code",
   "execution_count": 15,
   "metadata": {},
   "outputs": [
    {
     "data": {
      "text/plain": [
       "0.11274411113348097"
      ]
     },
     "execution_count": 15,
     "metadata": {},
     "output_type": "execute_result"
    }
   ],
   "source": [
    "pdd['job'].value_counts()\n",
    "#job一共分为十类管理类和技术员最多，但还有158人职业是未知,占比不大，查看下情况看是否直接删除\n",
    "pdd.groupby(['coupon_ind'])['job'].value_counts()\n",
    "pdd['coupon_ind'].value_counts(1)\n",
    "(2818-18)/(24993-140-18)\n",
    "#原本使用优惠券的占比0.112752，删除之后占比0.112744，差别不大可以直接删除"
   ]
  },
  {
   "cell_type": "code",
   "execution_count": 16,
   "metadata": {},
   "outputs": [
    {
     "data": {
      "text/plain": [
       "blue-collar      5454\n",
       "management       5285\n",
       "technician       4237\n",
       "admin.           2906\n",
       "services         2342\n",
       "retired           992\n",
       "self-employed     881\n",
       "entrepreneur      854\n",
       "unemployed        701\n",
       "housemaid         650\n",
       "student           533\n",
       "Name: job, dtype: int64"
      ]
     },
     "execution_count": 16,
     "metadata": {},
     "output_type": "execute_result"
    }
   ],
   "source": [
    "#删除job中unknown的部分\n",
    "pdd=pdd[pdd['job']!='unknown']\n",
    "pdd['job'].value_counts()"
   ]
  },
  {
   "cell_type": "code",
   "execution_count": 17,
   "metadata": {},
   "outputs": [
    {
     "data": {
      "text/plain": [
       "array(['midfree', 'lessfree', 'highfree'], dtype=object)"
      ]
     },
     "execution_count": 17,
     "metadata": {},
     "output_type": "execute_result"
    }
   ],
   "source": [
    "#job中职业太多，可进行大类分类，按照工作的自由情况\n",
    "pdd['job'].replace(['management','technician','admin.','entrepreneur'],'midfree', inplace=True)\n",
    "pdd['job'].replace(['student','retired','admin.','unemployed','housemaid'],'highfree',inplace=True)\n",
    "pdd['job'].replace(['services','blue-collar','admin.','self-employed'],'lessfree',inplace=True)\n",
    "pdd['job'].unique()"
   ]
  },
  {
   "cell_type": "code",
   "execution_count": 18,
   "metadata": {},
   "outputs": [
    {
     "data": {
      "text/plain": [
       "no     24388\n",
       "yes      447\n",
       "Name: default, dtype: int64"
      ]
     },
     "execution_count": 18,
     "metadata": {},
     "output_type": "execute_result"
    }
   ],
   "source": [
    "pdd['default'].value_counts()\n",
    "#default分为有违约和没有，占比差异大但是符合实际情况，可用"
   ]
  },
  {
   "cell_type": "code",
   "execution_count": 19,
   "metadata": {},
   "outputs": [
    {
     "data": {
      "text/plain": [
       "yes    13997\n",
       "no     10838\n",
       "Name: returned, dtype: int64"
      ]
     },
     "execution_count": 19,
     "metadata": {},
     "output_type": "execute_result"
    }
   ],
   "source": [
    "pdd['returned'].value_counts()\n",
    "#returned有无退货分布很相近，数据很OK"
   ]
  },
  {
   "cell_type": "code",
   "execution_count": 20,
   "metadata": {},
   "outputs": [
    {
     "data": {
      "text/plain": [
       "no     20780\n",
       "yes     4055\n",
       "Name: loan, dtype: int64"
      ]
     },
     "execution_count": 20,
     "metadata": {},
     "output_type": "execute_result"
    }
   ],
   "source": [
    "pdd['loan'].value_counts()\n",
    "#loan是否用信用卡付款占比差异也比较大，但是符合实际，没有空值可以用\n",
    "#总体分类型变量问题不大，除了job有很少量的未知职业需要进行处理"
   ]
  },
  {
   "cell_type": "code",
   "execution_count": 21,
   "metadata": {},
   "outputs": [
    {
     "data": {
      "text/html": [
       "<div>\n",
       "<style scoped>\n",
       "    .dataframe tbody tr th:only-of-type {\n",
       "        vertical-align: middle;\n",
       "    }\n",
       "\n",
       "    .dataframe tbody tr th {\n",
       "        vertical-align: top;\n",
       "    }\n",
       "\n",
       "    .dataframe thead th {\n",
       "        text-align: right;\n",
       "    }\n",
       "</style>\n",
       "<table border=\"1\" class=\"dataframe\">\n",
       "  <thead>\n",
       "    <tr style=\"text-align: right;\">\n",
       "      <th></th>\n",
       "      <th>ID</th>\n",
       "      <th>coupon_used_in_last_month</th>\n",
       "      <th>flag</th>\n",
       "      <th>age_&lt;30</th>\n",
       "      <th>age_30-40</th>\n",
       "      <th>age_40-50</th>\n",
       "      <th>job_highfree</th>\n",
       "      <th>job_lessfree</th>\n",
       "      <th>job_midfree</th>\n",
       "      <th>marital_divorced</th>\n",
       "      <th>marital_married</th>\n",
       "      <th>marital_single</th>\n",
       "      <th>default</th>\n",
       "      <th>returned</th>\n",
       "      <th>loan</th>\n",
       "      <th>coupon_last6_month_1</th>\n",
       "      <th>coupon_last6_month_&gt;=3</th>\n",
       "    </tr>\n",
       "  </thead>\n",
       "  <tbody>\n",
       "    <tr>\n",
       "      <th>0</th>\n",
       "      <td>1</td>\n",
       "      <td>0</td>\n",
       "      <td>0</td>\n",
       "      <td>0</td>\n",
       "      <td>0</td>\n",
       "      <td>1</td>\n",
       "      <td>0</td>\n",
       "      <td>0</td>\n",
       "      <td>1</td>\n",
       "      <td>0</td>\n",
       "      <td>1</td>\n",
       "      <td>0</td>\n",
       "      <td>0</td>\n",
       "      <td>1</td>\n",
       "      <td>0</td>\n",
       "      <td>0</td>\n",
       "      <td>0</td>\n",
       "    </tr>\n",
       "    <tr>\n",
       "      <th>1</th>\n",
       "      <td>2</td>\n",
       "      <td>1</td>\n",
       "      <td>0</td>\n",
       "      <td>0</td>\n",
       "      <td>0</td>\n",
       "      <td>1</td>\n",
       "      <td>0</td>\n",
       "      <td>0</td>\n",
       "      <td>1</td>\n",
       "      <td>1</td>\n",
       "      <td>0</td>\n",
       "      <td>0</td>\n",
       "      <td>0</td>\n",
       "      <td>1</td>\n",
       "      <td>0</td>\n",
       "      <td>1</td>\n",
       "      <td>0</td>\n",
       "    </tr>\n",
       "    <tr>\n",
       "      <th>2</th>\n",
       "      <td>3</td>\n",
       "      <td>0</td>\n",
       "      <td>0</td>\n",
       "      <td>0</td>\n",
       "      <td>0</td>\n",
       "      <td>1</td>\n",
       "      <td>0</td>\n",
       "      <td>0</td>\n",
       "      <td>1</td>\n",
       "      <td>0</td>\n",
       "      <td>1</td>\n",
       "      <td>0</td>\n",
       "      <td>0</td>\n",
       "      <td>1</td>\n",
       "      <td>1</td>\n",
       "      <td>0</td>\n",
       "      <td>0</td>\n",
       "    </tr>\n",
       "    <tr>\n",
       "      <th>3</th>\n",
       "      <td>4</td>\n",
       "      <td>0</td>\n",
       "      <td>0</td>\n",
       "      <td>1</td>\n",
       "      <td>0</td>\n",
       "      <td>0</td>\n",
       "      <td>0</td>\n",
       "      <td>0</td>\n",
       "      <td>1</td>\n",
       "      <td>0</td>\n",
       "      <td>0</td>\n",
       "      <td>1</td>\n",
       "      <td>0</td>\n",
       "      <td>1</td>\n",
       "      <td>1</td>\n",
       "      <td>0</td>\n",
       "      <td>0</td>\n",
       "    </tr>\n",
       "    <tr>\n",
       "      <th>4</th>\n",
       "      <td>5</td>\n",
       "      <td>0</td>\n",
       "      <td>0</td>\n",
       "      <td>0</td>\n",
       "      <td>0</td>\n",
       "      <td>1</td>\n",
       "      <td>0</td>\n",
       "      <td>0</td>\n",
       "      <td>1</td>\n",
       "      <td>1</td>\n",
       "      <td>0</td>\n",
       "      <td>0</td>\n",
       "      <td>0</td>\n",
       "      <td>1</td>\n",
       "      <td>0</td>\n",
       "      <td>0</td>\n",
       "      <td>1</td>\n",
       "    </tr>\n",
       "    <tr>\n",
       "      <th>5</th>\n",
       "      <td>6</td>\n",
       "      <td>0</td>\n",
       "      <td>0</td>\n",
       "      <td>0</td>\n",
       "      <td>0</td>\n",
       "      <td>0</td>\n",
       "      <td>0</td>\n",
       "      <td>1</td>\n",
       "      <td>0</td>\n",
       "      <td>1</td>\n",
       "      <td>0</td>\n",
       "      <td>0</td>\n",
       "      <td>0</td>\n",
       "      <td>0</td>\n",
       "      <td>0</td>\n",
       "      <td>1</td>\n",
       "      <td>0</td>\n",
       "    </tr>\n",
       "    <tr>\n",
       "      <th>6</th>\n",
       "      <td>7</td>\n",
       "      <td>0</td>\n",
       "      <td>0</td>\n",
       "      <td>0</td>\n",
       "      <td>1</td>\n",
       "      <td>0</td>\n",
       "      <td>0</td>\n",
       "      <td>0</td>\n",
       "      <td>1</td>\n",
       "      <td>0</td>\n",
       "      <td>0</td>\n",
       "      <td>1</td>\n",
       "      <td>0</td>\n",
       "      <td>0</td>\n",
       "      <td>0</td>\n",
       "      <td>0</td>\n",
       "      <td>1</td>\n",
       "    </tr>\n",
       "    <tr>\n",
       "      <th>7</th>\n",
       "      <td>8</td>\n",
       "      <td>0</td>\n",
       "      <td>0</td>\n",
       "      <td>0</td>\n",
       "      <td>1</td>\n",
       "      <td>0</td>\n",
       "      <td>0</td>\n",
       "      <td>0</td>\n",
       "      <td>1</td>\n",
       "      <td>0</td>\n",
       "      <td>0</td>\n",
       "      <td>1</td>\n",
       "      <td>0</td>\n",
       "      <td>0</td>\n",
       "      <td>0</td>\n",
       "      <td>0</td>\n",
       "      <td>0</td>\n",
       "    </tr>\n",
       "    <tr>\n",
       "      <th>8</th>\n",
       "      <td>9</td>\n",
       "      <td>0</td>\n",
       "      <td>0</td>\n",
       "      <td>0</td>\n",
       "      <td>1</td>\n",
       "      <td>0</td>\n",
       "      <td>0</td>\n",
       "      <td>0</td>\n",
       "      <td>1</td>\n",
       "      <td>0</td>\n",
       "      <td>0</td>\n",
       "      <td>1</td>\n",
       "      <td>0</td>\n",
       "      <td>1</td>\n",
       "      <td>1</td>\n",
       "      <td>0</td>\n",
       "      <td>1</td>\n",
       "    </tr>\n",
       "    <tr>\n",
       "      <th>9</th>\n",
       "      <td>10</td>\n",
       "      <td>0</td>\n",
       "      <td>0</td>\n",
       "      <td>0</td>\n",
       "      <td>0</td>\n",
       "      <td>0</td>\n",
       "      <td>0</td>\n",
       "      <td>0</td>\n",
       "      <td>1</td>\n",
       "      <td>0</td>\n",
       "      <td>1</td>\n",
       "      <td>0</td>\n",
       "      <td>0</td>\n",
       "      <td>0</td>\n",
       "      <td>1</td>\n",
       "      <td>0</td>\n",
       "      <td>1</td>\n",
       "    </tr>\n",
       "  </tbody>\n",
       "</table>\n",
       "</div>"
      ],
      "text/plain": [
       "   ID  coupon_used_in_last_month  flag  age_<30  age_30-40  age_40-50  \\\n",
       "0   1                          0     0        0          0          1   \n",
       "1   2                          1     0        0          0          1   \n",
       "2   3                          0     0        0          0          1   \n",
       "3   4                          0     0        1          0          0   \n",
       "4   5                          0     0        0          0          1   \n",
       "5   6                          0     0        0          0          0   \n",
       "6   7                          0     0        0          1          0   \n",
       "7   8                          0     0        0          1          0   \n",
       "8   9                          0     0        0          1          0   \n",
       "9  10                          0     0        0          0          0   \n",
       "\n",
       "   job_highfree  job_lessfree  job_midfree  marital_divorced  marital_married  \\\n",
       "0             0             0            1                 0                1   \n",
       "1             0             0            1                 1                0   \n",
       "2             0             0            1                 0                1   \n",
       "3             0             0            1                 0                0   \n",
       "4             0             0            1                 1                0   \n",
       "5             0             1            0                 1                0   \n",
       "6             0             0            1                 0                0   \n",
       "7             0             0            1                 0                0   \n",
       "8             0             0            1                 0                0   \n",
       "9             0             0            1                 0                1   \n",
       "\n",
       "   marital_single  default  returned  loan  coupon_last6_month_1  \\\n",
       "0               0        0         1     0                     0   \n",
       "1               0        0         1     0                     1   \n",
       "2               0        0         1     1                     0   \n",
       "3               1        0         1     1                     0   \n",
       "4               0        0         1     0                     0   \n",
       "5               0        0         0     0                     1   \n",
       "6               1        0         0     0                     0   \n",
       "7               1        0         0     0                     0   \n",
       "8               1        0         1     1                     0   \n",
       "9               0        0         0     1                     0   \n",
       "\n",
       "   coupon_last6_month_>=3  \n",
       "0                       0  \n",
       "1                       0  \n",
       "2                       0  \n",
       "3                       0  \n",
       "4                       1  \n",
       "5                       0  \n",
       "6                       1  \n",
       "7                       0  \n",
       "8                       1  \n",
       "9                       1  "
      ]
     },
     "execution_count": 21,
     "metadata": {},
     "output_type": "execute_result"
    }
   ],
   "source": [
    "#将分类型变量转换成哑变量，因为想要保留部分变量，就没用drop_first，直接删除部分变量\n",
    "pdd = pd.get_dummies(pdd)\n",
    "pdd.drop(['default_no','default_no','returned_no','loan_no','age_>50','coupon_last6_month_2','coupon_used_in_last6_month'],axis=1,inplace=True)\n",
    "#将下面几个变量重命名\n",
    "pdd=pdd.rename(columns={'default_yes':'default','returned_yes':'returned','loan_yes':'loan','coupon_ind':'flag'})\n",
    "pdd.head(10)"
   ]
  },
  {
   "cell_type": "markdown",
   "metadata": {},
   "source": [
    "2.3 目标变量coupon_ind分布"
   ]
  },
  {
   "cell_type": "code",
   "execution_count": 22,
   "metadata": {},
   "outputs": [
    {
     "data": {
      "text/plain": [
       "0    0.887256\n",
       "1    0.112744\n",
       "Name: flag, dtype: float64"
      ]
     },
     "execution_count": 22,
     "metadata": {},
     "output_type": "execute_result"
    }
   ],
   "source": [
    "#二分类模型，分析flag 1和0的占比\n",
    "pdd.flag.value_counts(1)\n",
    "#虽然使用优惠券的人群较少，但总体超过了5%，也可以使用;可以后期模型优化的时候再做不平衡数据处理"
   ]
  },
  {
   "cell_type": "code",
   "execution_count": 23,
   "metadata": {},
   "outputs": [
    {
     "name": "stdout",
     "output_type": "stream",
     "text": [
      "<pandas.core.groupby.generic.DataFrameGroupBy object at 0x000002A0679A1B88>\n"
     ]
    },
    {
     "data": {
      "text/html": [
       "<div>\n",
       "<style scoped>\n",
       "    .dataframe tbody tr th:only-of-type {\n",
       "        vertical-align: middle;\n",
       "    }\n",
       "\n",
       "    .dataframe tbody tr th {\n",
       "        vertical-align: top;\n",
       "    }\n",
       "\n",
       "    .dataframe thead th {\n",
       "        text-align: right;\n",
       "    }\n",
       "</style>\n",
       "<table border=\"1\" class=\"dataframe\">\n",
       "  <thead>\n",
       "    <tr style=\"text-align: right;\">\n",
       "      <th></th>\n",
       "      <th>ID</th>\n",
       "      <th>coupon_used_in_last_month</th>\n",
       "      <th>age_&lt;30</th>\n",
       "      <th>age_30-40</th>\n",
       "      <th>age_40-50</th>\n",
       "      <th>job_highfree</th>\n",
       "      <th>job_lessfree</th>\n",
       "      <th>job_midfree</th>\n",
       "      <th>marital_divorced</th>\n",
       "      <th>marital_married</th>\n",
       "      <th>marital_single</th>\n",
       "      <th>default</th>\n",
       "      <th>returned</th>\n",
       "      <th>loan</th>\n",
       "      <th>coupon_last6_month_1</th>\n",
       "      <th>coupon_last6_month_&gt;=3</th>\n",
       "    </tr>\n",
       "    <tr>\n",
       "      <th>flag</th>\n",
       "      <th></th>\n",
       "      <th></th>\n",
       "      <th></th>\n",
       "      <th></th>\n",
       "      <th></th>\n",
       "      <th></th>\n",
       "      <th></th>\n",
       "      <th></th>\n",
       "      <th></th>\n",
       "      <th></th>\n",
       "      <th></th>\n",
       "      <th></th>\n",
       "      <th></th>\n",
       "      <th></th>\n",
       "      <th></th>\n",
       "      <th></th>\n",
       "    </tr>\n",
       "  </thead>\n",
       "  <tbody>\n",
       "    <tr>\n",
       "      <th>0</th>\n",
       "      <td>11182.455366</td>\n",
       "      <td>0.259269</td>\n",
       "      <td>0.149263</td>\n",
       "      <td>0.401951</td>\n",
       "      <td>0.258725</td>\n",
       "      <td>0.108736</td>\n",
       "      <td>0.361970</td>\n",
       "      <td>0.529294</td>\n",
       "      <td>0.114409</td>\n",
       "      <td>0.610211</td>\n",
       "      <td>0.275380</td>\n",
       "      <td>0.019151</td>\n",
       "      <td>0.587474</td>\n",
       "      <td>0.171409</td>\n",
       "      <td>0.374541</td>\n",
       "      <td>0.347356</td>\n",
       "    </tr>\n",
       "    <tr>\n",
       "      <th>1</th>\n",
       "      <td>23840.157857</td>\n",
       "      <td>0.531786</td>\n",
       "      <td>0.218214</td>\n",
       "      <td>0.373214</td>\n",
       "      <td>0.194643</td>\n",
       "      <td>0.171429</td>\n",
       "      <td>0.250357</td>\n",
       "      <td>0.578214</td>\n",
       "      <td>0.111786</td>\n",
       "      <td>0.516429</td>\n",
       "      <td>0.371786</td>\n",
       "      <td>0.008929</td>\n",
       "      <td>0.375714</td>\n",
       "      <td>0.099286</td>\n",
       "      <td>0.483214</td>\n",
       "      <td>0.246071</td>\n",
       "    </tr>\n",
       "  </tbody>\n",
       "</table>\n",
       "</div>"
      ],
      "text/plain": [
       "                ID  coupon_used_in_last_month   age_<30  age_30-40  age_40-50  \\\n",
       "flag                                                                            \n",
       "0     11182.455366                   0.259269  0.149263   0.401951   0.258725   \n",
       "1     23840.157857                   0.531786  0.218214   0.373214   0.194643   \n",
       "\n",
       "      job_highfree  job_lessfree  job_midfree  marital_divorced  \\\n",
       "flag                                                              \n",
       "0         0.108736      0.361970     0.529294          0.114409   \n",
       "1         0.171429      0.250357     0.578214          0.111786   \n",
       "\n",
       "      marital_married  marital_single   default  returned      loan  \\\n",
       "flag                                                                  \n",
       "0            0.610211        0.275380  0.019151  0.587474  0.171409   \n",
       "1            0.516429        0.371786  0.008929  0.375714  0.099286   \n",
       "\n",
       "      coupon_last6_month_1  coupon_last6_month_>=3  \n",
       "flag                                                \n",
       "0                 0.374541                0.347356  \n",
       "1                 0.483214                0.246071  "
      ]
     },
     "execution_count": 23,
     "metadata": {},
     "output_type": "execute_result"
    }
   ],
   "source": [
    "summary=pdd.groupby('flag')\n",
    "print(summary)\n",
    "summary.mean()"
   ]
  },
  {
   "cell_type": "raw",
   "metadata": {},
   "source": [
    "#业务结论：变量中差异比较明显的是coupon_used_in_last_month，returned，marital_single，age_<30几个变量\n",
    "#1.coupon_used_in_last_month变量，在0的分组中，均值是0.26，在1的分组中，均值是0.53。数据显示如果上个月使用了优惠券，这次使用优惠券的概率也越高\n",
    "#2.age变量，从三个分组（<30,30-40,40-50）来看，只有<30的年龄组1的均值大于0的均值（0.15:0.21），即如果客户年龄小于30，使用优惠券的概率也会变高；而如果年龄大于30，使用优惠券的概率会变低\n",
    "#3.job变量，三个分组（lessfree,midfree和highfree）中，只有lessfree组的1的均值小于0的均值（0.25:0.36），即如果工作是最不自由的，使用优惠券的概率会降低；而其他工作使用优惠券的概率会提高\n",
    "#4.marriage变量，三个分组中，离婚人群使用优惠券概率最低，而结婚人群1的均值小于0的均值（0.52:0.61），即结婚客户使用优惠券的概率变低；而单身客户使用优惠券概率会变高\n",
    "#5.returned变量，在0的分组中，均值是0.59，在1的分组中，均值是0.38.数据显示如果客户之前有退货过，这次使用优惠券的概率会变低\n",
    "#6.coupon_last6_month变量，客户使用的优惠券多于等于3张，这次使用优惠券的概率就会降低。"
   ]
  },
  {
   "cell_type": "markdown",
   "metadata": {},
   "source": [
    "# 3. 单变量相关性分析"
   ]
  },
  {
   "cell_type": "code",
   "execution_count": 25,
   "metadata": {},
   "outputs": [
    {
     "data": {
      "text/html": [
       "<div>\n",
       "<style scoped>\n",
       "    .dataframe tbody tr th:only-of-type {\n",
       "        vertical-align: middle;\n",
       "    }\n",
       "\n",
       "    .dataframe tbody tr th {\n",
       "        vertical-align: top;\n",
       "    }\n",
       "\n",
       "    .dataframe thead th {\n",
       "        text-align: right;\n",
       "    }\n",
       "</style>\n",
       "<table border=\"1\" class=\"dataframe\">\n",
       "  <thead>\n",
       "    <tr style=\"text-align: right;\">\n",
       "      <th></th>\n",
       "      <th>flag</th>\n",
       "    </tr>\n",
       "  </thead>\n",
       "  <tbody>\n",
       "    <tr>\n",
       "      <th>flag</th>\n",
       "      <td>1.000000</td>\n",
       "    </tr>\n",
       "    <tr>\n",
       "      <th>ID</th>\n",
       "      <td>0.549588</td>\n",
       "    </tr>\n",
       "    <tr>\n",
       "      <th>coupon_used_in_last_month</th>\n",
       "      <td>0.112733</td>\n",
       "    </tr>\n",
       "    <tr>\n",
       "      <th>coupon_last6_month_1</th>\n",
       "      <td>0.070575</td>\n",
       "    </tr>\n",
       "    <tr>\n",
       "      <th>marital_single</th>\n",
       "      <td>0.067457</td>\n",
       "    </tr>\n",
       "    <tr>\n",
       "      <th>job_highfree</th>\n",
       "      <td>0.061966</td>\n",
       "    </tr>\n",
       "    <tr>\n",
       "      <th>age_&lt;30</th>\n",
       "      <td>0.059939</td>\n",
       "    </tr>\n",
       "    <tr>\n",
       "      <th>job_midfree</th>\n",
       "      <td>0.031020</td>\n",
       "    </tr>\n",
       "    <tr>\n",
       "      <th>marital_divorced</th>\n",
       "      <td>-0.002609</td>\n",
       "    </tr>\n",
       "    <tr>\n",
       "      <th>age_30-40</th>\n",
       "      <td>-0.018563</td>\n",
       "    </tr>\n",
       "    <tr>\n",
       "      <th>default</th>\n",
       "      <td>-0.024320</td>\n",
       "    </tr>\n",
       "    <tr>\n",
       "      <th>age_40-50</th>\n",
       "      <td>-0.046713</td>\n",
       "    </tr>\n",
       "    <tr>\n",
       "      <th>marital_married</th>\n",
       "      <td>-0.060537</td>\n",
       "    </tr>\n",
       "    <tr>\n",
       "      <th>loan</th>\n",
       "      <td>-0.061715</td>\n",
       "    </tr>\n",
       "    <tr>\n",
       "      <th>coupon_last6_month_&gt;=3</th>\n",
       "      <td>-0.067824</td>\n",
       "    </tr>\n",
       "    <tr>\n",
       "      <th>job_lessfree</th>\n",
       "      <td>-0.074041</td>\n",
       "    </tr>\n",
       "    <tr>\n",
       "      <th>returned</th>\n",
       "      <td>-0.135048</td>\n",
       "    </tr>\n",
       "  </tbody>\n",
       "</table>\n",
       "</div>"
      ],
      "text/plain": [
       "                               flag\n",
       "flag                       1.000000\n",
       "ID                         0.549588\n",
       "coupon_used_in_last_month  0.112733\n",
       "coupon_last6_month_1       0.070575\n",
       "marital_single             0.067457\n",
       "job_highfree               0.061966\n",
       "age_<30                    0.059939\n",
       "job_midfree                0.031020\n",
       "marital_divorced          -0.002609\n",
       "age_30-40                 -0.018563\n",
       "default                   -0.024320\n",
       "age_40-50                 -0.046713\n",
       "marital_married           -0.060537\n",
       "loan                      -0.061715\n",
       "coupon_last6_month_>=3    -0.067824\n",
       "job_lessfree              -0.074041\n",
       "returned                  -0.135048"
      ]
     },
     "execution_count": 25,
     "metadata": {},
     "output_type": "execute_result"
    }
   ],
   "source": [
    "#相关性分析\n",
    "pdd.corr()[['flag']].sort_values('flag',ascending=False)"
   ]
  },
  {
   "cell_type": "code",
   "execution_count": 50,
   "metadata": {},
   "outputs": [
    {
     "data": {
      "text/plain": [
       "<matplotlib.axes._subplots.AxesSubplot at 0x2a067a652c8>"
      ]
     },
     "execution_count": 50,
     "metadata": {},
     "output_type": "execute_result"
    },
    {
     "data": {
      "image/png": "[encoded data removed]",
      "text/plain": [
       "<Figure size 432x288 with 1 Axes>"
      ]
     },
     "metadata": {
      "needs_background": "light"
     },
     "output_type": "display_data"
    }
   ],
   "source": [
    "#线性关系可视化\n",
    "#斜率与相关系数有关\n",
    "sns.regplot('coupon_used_in_last_month','flag',pdd)"
   ]
  },
  {
   "cell_type": "markdown",
   "metadata": {},
   "source": [
    "# 4.建立逻辑回归模型"
   ]
  },
  {
   "cell_type": "code",
   "execution_count": 27,
   "metadata": {},
   "outputs": [],
   "source": [
    "#逻辑回归模型\n",
    "#设定因变量与自变量， y 是 flag, x 根据刚才的相关分析挑选coupon_used_in_last_month，job_highfree，marital_single，age_<30，coupon_last6_month_1\n",
    "y=pdd['flag']\n",
    "x=pdd[['coupon_used_in_last_month','job_highfree','marital_single','age_<30','coupon_last6_month_1']]"
   ]
  },
  {
   "cell_type": "code",
   "execution_count": 28,
   "metadata": {},
   "outputs": [],
   "source": [
    "#调用sklearn模块，随机抽取训练集与测试集\n",
    "from sklearn.model_selection import train_test_split\n",
    "x_train,x_test,y_train,y_test=train_test_split(x,y,test_size=0.3,random_state=100)"
   ]
  },
  {
   "cell_type": "code",
   "execution_count": 29,
   "metadata": {},
   "outputs": [],
   "source": [
    "#调用skearn中逻辑回归模块\n",
    "from sklearn import linear_model\n",
    "lr=linear_model.LogisticRegression()"
   ]
  },
  {
   "cell_type": "code",
   "execution_count": 30,
   "metadata": {},
   "outputs": [
    {
     "data": {
      "text/plain": [
       "LogisticRegression(C=1.0, class_weight=None, dual=False, fit_intercept=True,\n",
       "                   intercept_scaling=1, l1_ratio=None, max_iter=100,\n",
       "                   multi_class='auto', n_jobs=None, penalty='l2',\n",
       "                   random_state=None, solver='lbfgs', tol=0.0001, verbose=0,\n",
       "                   warm_start=False)"
      ]
     },
     "execution_count": 30,
     "metadata": {},
     "output_type": "execute_result"
    }
   ],
   "source": [
    "#模型拟合\n",
    "lr.fit(x_train,y_train)"
   ]
  },
  {
   "cell_type": "code",
   "execution_count": 31,
   "metadata": {},
   "outputs": [
    {
     "data": {
      "text/plain": [
       "array([-2.60991893])"
      ]
     },
     "execution_count": 31,
     "metadata": {},
     "output_type": "execute_result"
    }
   ],
   "source": [
    "#模型的截距与系数\n",
    "lr.intercept_"
   ]
  },
  {
   "cell_type": "code",
   "execution_count": 32,
   "metadata": {},
   "outputs": [
    {
     "data": {
      "text/plain": [
       "array([[0.37272897, 0.45605749, 0.29690246, 0.27901727, 0.45797594]])"
      ]
     },
     "execution_count": 32,
     "metadata": {},
     "output_type": "execute_result"
    }
   ],
   "source": [
    "lr.coef_"
   ]
  },
  {
   "cell_type": "code",
   "execution_count": 33,
   "metadata": {},
   "outputs": [],
   "source": [
    "#模型的评估\n",
    "#基于模型的结果，对训练集与测试集中x的真实值预测对应的y\n",
    "y_pred_train=lr.predict(x_train)\n",
    "y_pred_test=lr.predict(x_test)"
   ]
  },
  {
   "cell_type": "code",
   "execution_count": 34,
   "metadata": {},
   "outputs": [
    {
     "name": "stdout",
     "output_type": "stream",
     "text": [
      "[0 0 0 ... 0 0 0]\n"
     ]
    }
   ],
   "source": [
    "print(y_pred_train)"
   ]
  },
  {
   "cell_type": "code",
   "execution_count": 35,
   "metadata": {},
   "outputs": [
    {
     "data": {
      "text/plain": [
       "array([[15410,    14],\n",
       "       [ 1960,     0]], dtype=int64)"
      ]
     },
     "execution_count": 35,
     "metadata": {},
     "output_type": "execute_result"
    }
   ],
   "source": [
    "#搭建混淆矩阵\n",
    "import sklearn.metrics as metrics\n",
    "#搭建训练集混淆矩阵\n",
    "metrics.confusion_matrix(y_train,y_pred_train)"
   ]
  },
  {
   "cell_type": "code",
   "execution_count": 36,
   "metadata": {},
   "outputs": [
    {
     "data": {
      "text/plain": [
       "0.8864473078693051"
      ]
     },
     "execution_count": 36,
     "metadata": {},
     "output_type": "execute_result"
    }
   ],
   "source": [
    "#计算训练集准确率\n",
    "metrics.accuracy_score(y_train,y_pred_train)"
   ]
  },
  {
   "cell_type": "code",
   "execution_count": 37,
   "metadata": {},
   "outputs": [
    {
     "data": {
      "text/plain": [
       "array([[6605,    6],\n",
       "       [ 839,    1]], dtype=int64)"
      ]
     },
     "execution_count": 37,
     "metadata": {},
     "output_type": "execute_result"
    }
   ],
   "source": [
    "#搭建测试集混淆矩阵\n",
    "metrics.confusion_matrix(y_test,y_pred_test)"
   ]
  },
  {
   "cell_type": "code",
   "execution_count": 38,
   "metadata": {},
   "outputs": [
    {
     "data": {
      "text/plain": [
       "0.8865924037042008"
      ]
     },
     "execution_count": 38,
     "metadata": {},
     "output_type": "execute_result"
    }
   ],
   "source": [
    "metrics.accuracy_score(y_test,y_pred_test)"
   ]
  },
  {
   "cell_type": "code",
   "execution_count": 39,
   "metadata": {},
   "outputs": [],
   "source": [
    "# 从sklearn.metrics里导入classification_report模块。  分类报告\n",
    "from sklearn.metrics import classification_report"
   ]
  },
  {
   "cell_type": "code",
   "execution_count": 40,
   "metadata": {},
   "outputs": [
    {
     "name": "stdout",
     "output_type": "stream",
     "text": [
      "              precision    recall  f1-score   support\n",
      "\n",
      "         Use       0.89      1.00      0.94      6611\n",
      "      Nonuse       0.14      0.00      0.00       840\n",
      "\n",
      "    accuracy                           0.89      7451\n",
      "   macro avg       0.52      0.50      0.47      7451\n",
      "weighted avg       0.80      0.89      0.83      7451\n",
      "\n"
     ]
    }
   ],
   "source": [
    "# 利用classification_report模块获得LogisticRegression其他三个指标的结果。\n",
    "print(classification_report(y_test, y_pred_test, target_names=['NonUse', 'Use']))\n",
    "#模型整体来看，使用优惠券的效果很差，召回率为0，准确率只有0.14，需要进行模型优化"
   ]
  },
  {
   "cell_type": "markdown",
   "metadata": {},
   "source": [
    "# 5.模型优化"
   ]
  },
  {
   "cell_type": "code",
   "execution_count": 41,
   "metadata": {},
   "outputs": [
    {
     "data": {
      "text/plain": [
       "LogisticRegression(C=1.0, class_weight='balanced', dual=False,\n",
       "                   fit_intercept=True, intercept_scaling=1, l1_ratio=None,\n",
       "                   max_iter=100, multi_class='auto', n_jobs=None, penalty='l2',\n",
       "                   random_state=100, solver='lbfgs', tol=0.0001, verbose=0,\n",
       "                   warm_start=False)"
      ]
     },
     "execution_count": 41,
     "metadata": {},
     "output_type": "execute_result"
    }
   ],
   "source": [
    "#源数据中使用优惠券占比仅为0.112744，虽然样本量还可以，这里选择更改权重的方法处理\n",
    "#利用设置权重来调整不平衡数据\n",
    "from sklearn.linear_model import LogisticRegression\n",
    "from sklearn.ensemble import RandomForestClassifier\n",
    "\n",
    "#逻辑回归平衡权重\n",
    "lr1= LogisticRegression(random_state=100, class_weight='balanced')\n",
    "\n",
    "#用新的权重参数进行模型拟合\n",
    "lr1.fit(x_train,y_train)"
   ]
  },
  {
   "cell_type": "code",
   "execution_count": 59,
   "metadata": {},
   "outputs": [],
   "source": [
    "#调用sklearn模块，随机抽取训练集与测试集\n",
    "from sklearn.model_selection import train_test_split\n",
    "x_train,x_test,y_train,y_test=train_test_split(x,y,test_size=0.3,random_state=100)"
   ]
  },
  {
   "cell_type": "code",
   "execution_count": 60,
   "metadata": {},
   "outputs": [
    {
     "data": {
      "text/plain": [
       "array([-0.56870005])"
      ]
     },
     "execution_count": 60,
     "metadata": {},
     "output_type": "execute_result"
    }
   ],
   "source": [
    "#模型的截距与系数\n",
    "lr1.intercept_"
   ]
  },
  {
   "cell_type": "code",
   "execution_count": 61,
   "metadata": {},
   "outputs": [
    {
     "data": {
      "text/plain": [
       "array([[0.47676437, 0.41526299, 0.28598465, 0.27975607, 0.43264823]])"
      ]
     },
     "execution_count": 61,
     "metadata": {},
     "output_type": "execute_result"
    }
   ],
   "source": [
    "lr1.coef_"
   ]
  },
  {
   "cell_type": "code",
   "execution_count": 62,
   "metadata": {},
   "outputs": [
    {
     "name": "stdout",
     "output_type": "stream",
     "text": [
      "[0 0 0 ... 0 0 1]\n"
     ]
    }
   ],
   "source": [
    "#模型的评估\n",
    "#基于模型的结果，对训练集与测试集中x的真实值预测对应的y\n",
    "y_pred_train1=lr1.predict(x_train)\n",
    "y_pred_test1=lr1.predict(x_test)\n",
    "print(y_pred_train1)"
   ]
  },
  {
   "cell_type": "code",
   "execution_count": 63,
   "metadata": {},
   "outputs": [
    {
     "data": {
      "text/plain": [
       "array([[10896,  4528],\n",
       "       [  962,   998]], dtype=int64)"
      ]
     },
     "execution_count": 63,
     "metadata": {},
     "output_type": "execute_result"
    }
   ],
   "source": [
    "#搭建混淆矩阵\n",
    "import sklearn.metrics as metrics\n",
    "#搭建训练集混淆矩阵\n",
    "metrics.confusion_matrix(y_train,y_pred_train1)"
   ]
  },
  {
   "cell_type": "code",
   "execution_count": 64,
   "metadata": {},
   "outputs": [
    {
     "data": {
      "text/plain": [
       "0.6841923607915325"
      ]
     },
     "execution_count": 64,
     "metadata": {},
     "output_type": "execute_result"
    }
   ],
   "source": [
    "#计算训练集准确率\n",
    "metrics.accuracy_score(y_train,y_pred_train1)"
   ]
  },
  {
   "cell_type": "code",
   "execution_count": 65,
   "metadata": {},
   "outputs": [
    {
     "data": {
      "text/plain": [
       "0.700711313917595"
      ]
     },
     "execution_count": 65,
     "metadata": {},
     "output_type": "execute_result"
    }
   ],
   "source": [
    "#搭建测试集混淆矩阵\n",
    "metrics.confusion_matrix(y_test,y_pred_test1)\n",
    "metrics.accuracy_score(y_test,y_pred_test1)"
   ]
  },
  {
   "cell_type": "code",
   "execution_count": 66,
   "metadata": {},
   "outputs": [
    {
     "name": "stdout",
     "output_type": "stream",
     "text": [
      "              precision    recall  f1-score   support\n",
      "\n",
      "         Use       0.92      0.72      0.81      6611\n",
      "      Nonuse       0.19      0.52      0.28       840\n",
      "\n",
      "    accuracy                           0.70      7451\n",
      "   macro avg       0.56      0.62      0.55      7451\n",
      "weighted avg       0.84      0.70      0.75      7451\n",
      "\n"
     ]
    }
   ],
   "source": [
    "# 从sklearn.metrics里导入classification_report模块。  分类报告\n",
    "from sklearn.metrics import classification_report\n",
    "# 利用classification_report模块获得LogisticRegression其他三个指标的结果。\n",
    "print(classification_report(y_test, y_pred_test1, target_names=['NonUse', 'Use']))\n",
    "#模型整体来看，使用优惠券的群体召回率为0.52，有所升高，准确率只有0.19单也有所提高，模型优化"
   ]
  },
  {
   "cell_type": "raw",
   "metadata": {},
   "source": [
    "也经过了变量的调整，test_size的调整等等，决定这一模型为最优模型"
   ]
  },
  {
   "cell_type": "markdown",
   "metadata": {},
   "source": [
    "# 6.业务解读"
   ]
  },
  {
   "cell_type": "code",
   "execution_count": 67,
   "metadata": {},
   "outputs": [
    {
     "name": "stdout",
     "output_type": "stream",
     "text": [
      "1.6108538338433516\n",
      "1.5147690574275063\n",
      "1.3310720231399205\n",
      "1.3228071006434454\n",
      "1.5413339302888176\n"
     ]
    }
   ],
   "source": [
    "#系数解读\n",
    "import math\n",
    "print(math.exp(0.47676437))\n",
    "print(math.exp(0.41526299))\n",
    "print(math.exp(0.28598465))\n",
    "print(math.exp(0.27975607))\n",
    "print(math.exp(0.43264823))"
   ]
  },
  {
   "cell_type": "raw",
   "metadata": {},
   "source": [
    "#1.coupon_used_in_last_month：系数为0.47676437，可以解释为其他条件不变，上个月使用了优惠券的客户，这次使用优惠券的概率比其他组客户几率高61%\n",
    "#2.job_highfree：系数为0.41526299，可以解释为其他条件不变，工作自由度最高的客户群体，这次使用优惠券的概率比其他组客户几率高51%\n",
    "#3.marital_single：系数为0.28598465，可以解释为其他条件不变，单身客户群体，这次使用优惠券的概率比其他组客户几率高33%\n",
    "#4.age_<30：系数为0.27975607，可以解释为其他条件不变，小于30岁的年轻客户群体，这次使用优惠券的概率比其他组客户几率高32%\n",
    "#5.coupon_last6_month_1：系数为0.43264823，可以解释为其他条件不变，前六个月只用了1张优惠券的客户，这次使用优惠券的概率比其他组客户几率高54%"
   ]
  },
  {
   "cell_type": "raw",
   "metadata": {},
   "source": [
    "综合上述二分类模型的业务结论，上个月是否使用优惠券是影响因素最大的变量，拼多多可以加大优惠券的发放量但不宜过多，不然优惠券使用过多，客户也会在日后降低优惠券使用几率\n",
    "其次，工作情况也影响较大，工作最自由的群体如学生，退休人员，失业者，家庭主妇使用优惠券几率高，同时也是收入最少的几类群体，因此公司需要针对这些人群加大宣传，提高优惠券发放量\n",
    "同时，年轻的单身客户群体使用优惠券几率也有增高，拼多多也需要多多向这一群体进行宣传，发放优惠券，以提高销量。"
   ]
  }
 ],
 "metadata": {
  "kernelspec": {
   "display_name": "Python 3",
   "language": "python",
   "name": "python3"
  },
  "language_info": {
   "codemirror_mode": {
    "name": "ipython",
    "version": 3
   },
   "file_extension": ".py",
   "mimetype": "text/x-python",
   "name": "python",
   "nbconvert_exporter": "python",
   "pygments_lexer": "ipython3",
   "version": "3.7.6"
  }
 },
 "nbformat": 4,
 "nbformat_minor": 4
}
